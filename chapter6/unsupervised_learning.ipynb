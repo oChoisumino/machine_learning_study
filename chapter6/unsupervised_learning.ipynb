{
 "cells": [
  {
   "attachments": {},
   "cell_type": "markdown",
   "metadata": {},
   "source": [
    "# 6. 비지도 학습"
   ]
  },
  {
   "attachments": {},
   "cell_type": "markdown",
   "metadata": {},
   "source": [
    "## 6-1. 군집 알고리즘\n",
    "* 비지도 학습\n",
    "  - 타깃이 없을 때 사용하는 머신러닝 알고리즘\n",
    "  - 대표적인 비지도 학습 작업 : 군집, 차원 축소\n",
    "\n",
    "* 이미지 준비하기\n",
    "  -  np.load('파일명')\n",
    "    * numpy 내 함수\n",
    "    * npy 함수를 로드할 때 사용\n",
    "    * 파일 크기 : (샘플 개수, 이미지 높이, 이미지 너비)\n",
    "    * 이미지 크기 : 이미지 높이 * 이미지 너비\n",
    "  - plt.imshow(배열)\n",
    "    * matplotlib.pyplot 내 함수\n",
    "    * numpy 배열로 저장된 이미지를 그릴 때 사용\n",
    "    * 매개변수 cmap\n",
    "      - gray : 흑백 이미지로, 0에 가까울수록 어둡고 클수록 밝게 표시\n",
    "      - gray_r : 흑백 이미지로, 0에 가까울수록 밝고 클수록 어둡게 표시\n",
    "\n",
    "* 이미지 통계값 구하기\n",
    "  - np.abs()\n",
    "    * numpy 내 함수\n",
    "    * 절댓값을 계산하는 함수\n",
    "  - np.mean()\n",
    "    * numpy 내 함수\n",
    "    * 평균을 계산하는 함수\n",
    "  - np.argsort()\n",
    "    * numpy 내 함수\n",
    "    * 작은 것에서 큰 순서대로 나열한 배열의 인덱스\n",
    "\n",
    "* 용어 정리\n",
    "  - 군집 : 비슷한 샘플끼리 하나의 그룹으로 모으는 대표적인 비지도 학습\n",
    "  - 클러스터 : 군집 알고리즘으로 모은 샘플 그룹"
   ]
  },
  {
   "cell_type": "markdown",
   "metadata": {},
   "source": []
  },
  {
   "cell_type": "markdown",
   "metadata": {},
   "source": []
  }
 ],
 "metadata": {
  "language_info": {
   "name": "python"
  },
  "orig_nbformat": 4
 },
 "nbformat": 4,
 "nbformat_minor": 2
}
