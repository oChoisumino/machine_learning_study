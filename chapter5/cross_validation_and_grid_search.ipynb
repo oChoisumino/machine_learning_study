{
  "nbformat": 4,
  "nbformat_minor": 0,
  "metadata": {
    "colab": {
      "provenance": []
    },
    "kernelspec": {
      "name": "python3",
      "display_name": "Python 3"
    },
    "language_info": {
      "name": "python"
    }
  },
  "cells": [
    {
      "cell_type": "code",
      "execution_count": 1,
      "metadata": {
        "id": "1JsT5HXB1g53"
      },
      "outputs": [],
      "source": [
        "# 데이터 읽기\n",
        "import pandas as pd\n",
        "wine = pd.read_csv('http://bit.ly/wine_csv_data')"
      ]
    },
    {
      "cell_type": "code",
      "source": [
        "# 훈련 데이터와 테스트 데이터 분류\n",
        "data = wine[['alcohol', 'sugar', 'pH']].to_numpy()\n",
        "target = wine['class'].to_numpy()\n",
        "\n",
        "from sklearn.model_selection import train_test_split\n",
        "train_input, test_input, train_target, test_target = train_test_split(data, target, test_size=0.2, random_state = 42)"
      ],
      "metadata": {
        "id": "J51TfBkN6iPr"
      },
      "execution_count": 2,
      "outputs": []
    },
    {
      "cell_type": "code",
      "source": [
        "# 훈련세트와 검증 세트로 분류\n",
        "sub_input, val_input, sub_target, val_target = train_test_split(train_input, train_target, test_size = 0.2, random_state = 42)"
      ],
      "metadata": {
        "id": "Q_WpaePH6iSA"
      },
      "execution_count": 3,
      "outputs": []
    },
    {
      "cell_type": "code",
      "source": [
        "# 결정 트리 모델 학습\n",
        "from sklearn.tree import DecisionTreeClassifier\n",
        "dt = DecisionTreeClassifier(random_state = 42)\n",
        "dt.fit(sub_input, sub_target)\n",
        "print(dt.score(sub_input, sub_target))\n",
        "print(dt.score(val_input, val_target))"
      ],
      "metadata": {
        "colab": {
          "base_uri": "https://localhost:8080/"
        },
        "id": "aY9L6kyG6iUR",
        "outputId": "777f49c6-8118-4a2b-897d-b35dcc63be47"
      },
      "execution_count": 4,
      "outputs": [
        {
          "output_type": "stream",
          "name": "stdout",
          "text": [
            "0.9971133028626413\n",
            "0.864423076923077\n"
          ]
        }
      ]
    },
    {
      "cell_type": "code",
      "source": [
        "# 교차 검증\n",
        "from sklearn.model_selection import cross_validate\n",
        "scores = cross_validate(dt, train_input, train_target)\n",
        "print(scores)"
      ],
      "metadata": {
        "colab": {
          "base_uri": "https://localhost:8080/"
        },
        "id": "NPL371kB6iW3",
        "outputId": "9c997655-c3fe-4d99-d561-baacab745467"
      },
      "execution_count": 5,
      "outputs": [
        {
          "output_type": "stream",
          "name": "stdout",
          "text": [
            "{'fit_time': array([0.00996757, 0.00821042, 0.01090598, 0.0085988 , 0.00715613]), 'score_time': array([0.00116229, 0.00178981, 0.00176048, 0.00120926, 0.00108862]), 'test_score': array([0.86923077, 0.84615385, 0.87680462, 0.84889317, 0.83541867])}\n"
          ]
        }
      ]
    },
    {
      "cell_type": "code",
      "source": [
        "# StratifiedKFold 사용하여 교차 검증\n",
        "from sklearn.model_selection import StratifiedKFold\n",
        "scores = cross_validate(dt, train_input, train_target,cv = StratifiedKFold())\n",
        "\n",
        "import numpy as np\n",
        "print(np.mean(scores['test_score']))"
      ],
      "metadata": {
        "colab": {
          "base_uri": "https://localhost:8080/"
        },
        "id": "8r38BTXN6iZM",
        "outputId": "b5c83cfe-8785-40a9-a664-0ea83ddaa7a1"
      },
      "execution_count": 6,
      "outputs": [
        {
          "output_type": "stream",
          "name": "stdout",
          "text": [
            "0.855300214703487\n"
          ]
        }
      ]
    },
    {
      "cell_type": "code",
      "source": [
        "# 10폴드 교차검증\n",
        "splitter = StratifiedKFold(n_splits = 10, shuffle = True, random_state = 42)\n",
        "scores = cross_validate(dt, train_input, train_target, cv= splitter)\n",
        "print(np.mean(scores['test_score']))"
      ],
      "metadata": {
        "colab": {
          "base_uri": "https://localhost:8080/"
        },
        "id": "cIbNov486ibj",
        "outputId": "9137fbb4-bff3-41db-82bc-46313ab6dff5"
      },
      "execution_count": 7,
      "outputs": [
        {
          "output_type": "stream",
          "name": "stdout",
          "text": [
            "0.8574181117533719\n"
          ]
        }
      ]
    },
    {
      "cell_type": "code",
      "source": [
        "# 그리드 서치 수행\n",
        "from sklearn.model_selection import GridSearchCV\n",
        "params = {'min_impurity_decrease' : [0.0001, 0.0002, 0.0003, 0.0004, 0.0005]}\n",
        "gs = GridSearchCV(DecisionTreeClassifier(random_state=42), params, n_jobs=-1)\n",
        "\n",
        "gs.fit(train_input, train_target)\n",
        "dt = gs.best_estimator_\n",
        "print('dt.score(train_input, train_target) : ', dt.score(train_input, train_target))\n",
        "print(\"best_params_ : \", gs.best_params_)\n",
        "print('cv_results_[mean_test_score] : ', gs.cv_results_['mean_test_score'])"
      ],
      "metadata": {
        "colab": {
          "base_uri": "https://localhost:8080/"
        },
        "id": "iT4n98a16ieF",
        "outputId": "3837a603-fc3a-46df-c666-e9b67b9770cd"
      },
      "execution_count": 8,
      "outputs": [
        {
          "output_type": "stream",
          "name": "stdout",
          "text": [
            "dt.score(train_input, train_target) :  0.9615162593804117\n",
            "best_params_ :  {'min_impurity_decrease': 0.0001}\n",
            "cv_results_[mean_test_score] :  [0.86819297 0.86453617 0.86492226 0.86780891 0.86761605]\n"
          ]
        }
      ]
    },
    {
      "cell_type": "code",
      "source": [
        "# 그리드 서치 수행 (여러 개의 최적의 하이퍼파라미터 탐색)\n",
        "params = {'min_impurity_decrease' : np.arange(0.0001, 0.001, 0.0001), 'max_depth' : range(5, 20, 1), 'min_samples_split' : range(2, 100, 10)}\n",
        "gs = GridSearchCV(DecisionTreeClassifier(random_state=42), params, n_jobs=-1)\n",
        "gs.fit(train_input, train_target)\n",
        "\n",
        "dt = gs.best_estimator_\n",
        "print('dt.score(train_input, train_target) : ', dt.score(train_input, train_target))\n",
        "print(\"best_params_ : \", gs.best_params_)\n",
        "print('cv_results_[mean_test_score] : ', gs.cv_results_['mean_test_score'])"
      ],
      "metadata": {
        "colab": {
          "base_uri": "https://localhost:8080/"
        },
        "id": "yMTLwlp-6igk",
        "outputId": "85e4bb89-d2d6-44de-d22e-816d49bbbe10"
      },
      "execution_count": 9,
      "outputs": [
        {
          "output_type": "stream",
          "name": "stdout",
          "text": [
            "dt.score(train_input, train_target) :  0.892053107562055\n",
            "best_params_ :  {'max_depth': 14, 'min_impurity_decrease': 0.0004, 'min_samples_split': 12}\n",
            "cv_results_[mean_test_score] :  [0.85780355 0.85799604 0.85799604 ... 0.86126601 0.86165063 0.86357629]\n"
          ]
        }
      ]
    },
    {
      "cell_type": "code",
      "source": [
        "# 랜덤 서치\n",
        "from scipy.stats import uniform, randint\n",
        "params = {'min_impurity_decrease' : uniform(0.0001, 0.001), 'max_depth' : randint(20, 50), 'min_samples_split' : randint(2,25), 'min_samples_leaf' : randint(1,25)}\n",
        "\n",
        "from sklearn.model_selection import RandomizedSearchCV\n",
        "gs = RandomizedSearchCV(DecisionTreeClassifier(random_state=42), params, n_iter=100, n_jobs=-1, random_state=42)\n",
        "gs.fit(train_input, train_target)\n",
        "\n",
        "import numpy as np\n",
        "dt = gs.best_estimator_\n",
        "print('dt.score(train_input, train_target) : ', dt.score(train_input, train_target))\n",
        "print(\"best_params_ : \", gs.best_params_)\n",
        "print('np.max(cv_results_[mean_test_score]) : ', np.max(gs.cv_results_['mean_test_score']))"
      ],
      "metadata": {
        "colab": {
          "base_uri": "https://localhost:8080/"
        },
        "id": "UzX24KYxCGQt",
        "outputId": "6124020c-4d16-49f7-ed7f-8edc77852e9e"
      },
      "execution_count": 10,
      "outputs": [
        {
          "output_type": "stream",
          "name": "stdout",
          "text": [
            "dt.score(train_input, train_target) :  0.8928227823744468\n",
            "best_params_ :  {'max_depth': 39, 'min_impurity_decrease': 0.00034102546602601173, 'min_samples_leaf': 7, 'min_samples_split': 13}\n",
            "np.max(cv_results_[mean_test_score]) :  0.8695428296438884\n"
          ]
        }
      ]
    }
  ]
}